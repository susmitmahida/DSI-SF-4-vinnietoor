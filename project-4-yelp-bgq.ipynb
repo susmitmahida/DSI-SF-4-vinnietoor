{
 "cells": [
  {
   "cell_type": "markdown",
   "metadata": {},
   "source": [
    "<img src=\"http://imgur.com/1ZcRyrc.png\" style=\"float: left; margin: 15px; height: 80px\">\n",
    "\n",
    "# Project 4\n",
    "\n",
    "###  Big Query, SQL, Classification\n",
    "\n",
    "---\n",
    "\n",
    "### The Data\n",
    "\n",
    "There are 5 individual tables that have the information, contained in a Google BigQuery database.  The setup info for BigQuery is located on our DSI wiki.  You will have to query with SQL, the dataset in order to complete this project.\n",
    "\n",
    "The tables, with cooresonding attributes that exist are:\n",
    "\n",
    "### businesses\n",
    "- business_id: unique business identifier\n",
    "- name: name of the business\n",
    "- review_count: number of reviews per business\n",
    "- city: city business resides in\n",
    "- stars: average rating\n",
    "- categories: categories the business falls into (can be one or multiple)\n",
    "- latitude\n",
    "- longitude\n",
    "- neighborhoods: neighborhoods business belongs to\n",
    "- variable: \"property\" of the business (a tag)\n",
    "- value: True/False for the property\n",
    "\n",
    "### reviews\n",
    "- user_id: unique user identifier\n",
    "- review_id: unique review identifier\n",
    "- votes.cool: how many thought the review was \"cool\"\n",
    "- business_id: unique business id the review is for\n",
    "- votes.funny: how many thought the review was funny\n",
    "- stars: rating given\n",
    "- date: date of review\n",
    "- votes.useful: how many thought the review was useful\n",
    "- ... 100 columns of counts of most common 2 word phrases that appear in reviews in this review\n",
    "\n",
    "### users\n",
    "- yelping_since: signup date\n",
    "- compliments.plain: # of compliments \"plain\"\n",
    "- review_count: # of reviews:\n",
    "- compliments.cute: total # of compliments \"cute\"\n",
    "- compliments.writer: # of compliments \"writer\"\n",
    "- compliments.note: # of compliments \"note\" (not sure what this is)\n",
    "- compliments.hot: # of compliments \"hot\" (?)\n",
    "- compliments.cool: # of compliments \"cool\"\n",
    "- compliments.profile: # of compliments \"profile\"\n",
    "- average_stars: average rating\n",
    "- compliments.more: # of compliments \"more\"\n",
    "- elite: years considered \"elite\"\n",
    "- name: user's name\n",
    "- user_id: unique user id\n",
    "- votes.cool: # of votes \"cool\"\n",
    "- compliments.list: # of compliments \"list\"\n",
    "- votes.funny: # of compliments \"funny\"\n",
    "- compliments.photos: # of compliments \"photos\"\n",
    "- compliments.funny: # of compliments \"funny\"\n",
    "- votes.useful: # of votes \"useful\"\n",
    "\n",
    "### checkins\n",
    "- business_id: unique business identifier\n",
    "- variable: day-time identifier of checkins (0-0 is Sunday 0:00 - 1:00am,  for example)\n",
    "- value: # of checkins at that time\n",
    "\n",
    "### tips\n",
    "- user_id: unique user identifier\n",
    "- business_id: unique business identifier\n",
    "- likes: likes that the tip has\n",
    "- date: date of tip\n",
    "- ... 100 columns of counts of most common 2 word phrases that appear in tips in this tip\n",
    "\n",
    "\n",
    "The reviews and tips datasets in particular have parsed \"NLP\" columns with counts of 2-word phrases in that review or tip (a \"tip\", it seems, is some kind of smaller review).\n",
    "\n",
    "The user dataset has a lot of columns of counts of different compliments and votes. We're not sure whether the compliments or votes are by the user or for the user.\n",
    "\n",
    "Full details about this dataset area located here:\n",
    "https://bigquery.cloud.google.com/dataset/bigquery-dsi-dave:yelp_arizona\n",
    "\n",
    "---\n",
    "\n",
    "\n",
    "If you look at the website, or the full data, you'll see I have removed pieces of the data and cut it down quite a bit. This is to simplify it for this project. Specifically, business are limited to be in these cities:\n",
    "\n",
    "- Phoenix\n",
    "- Surprise\n",
    "- Las Vegas\n",
    "- Waterloo\n",
    "\n",
    "Apparently there is a city called \"Surprise\" in Arizona. \n",
    "\n",
    "Businesses are also restricted to at least be in one of the following categories, because we thought the mix of them was funny:\n",
    "\n",
    "- Airports\n",
    "- Breakfast & Brunch\n",
    "- Bubble Tea\n",
    "- Burgers\n",
    "- Bars\n",
    "- Bakeries\n",
    "- Breweries\n",
    "- Cafes\n",
    "- Candy Stores\n",
    "- Comedy Clubs\n",
    "- Courthouses\n",
    "- Dance Clubs\n",
    "- Fast Food\n",
    "- Museums\n",
    "- Tattoo\n",
    "- Vape Shops\n",
    "- Yoga\n",
    "    \n",
    "---\n",
    "\n",
    "### Project requirements\n",
    "\n",
    "**You will be performing 4 different sections of analysis, like in the last project.**\n",
    "\n",
    "Remember that classification targets are categorical and regression targets are continuous variables."
   ]
  },
  {
   "cell_type": "markdown",
   "metadata": {},
   "source": [
    "<img src=\"http://imgur.com/l5NasQj.png\" style=\"float: left; margin: 25px 15px 0px 0px; height: 25px\">\n",
    "\n",
    "## 1. Load your dataset(s) / setup / configure GBQ connection\n",
    "\n",
    "---\n",
    "\n",
    "Information about this dataset is located here:\n",
    "\n",
    "\n",
    "**If you haven't done so, setup a project with the Google developer portal, following the directions here: [Getting Started with BigQuery](https://github.com/ga-students/DSI-SF-4/wiki/Getting-Started-with-BigQuery)**"
   ]
  },
  {
   "cell_type": "code",
   "execution_count": 83,
   "metadata": {
    "collapsed": false
   },
   "outputs": [
    {
     "name": "stdout",
     "output_type": "stream",
     "text": [
      "Requesting query... ok.\n",
      "Query running...\n",
      "Query done.\n",
      "Cache hit.\n",
      "\n",
      "Retrieving results...\n",
      "  Got page: 1; 100.0% done. Elapsed 8.33 s.\n",
      "Got 2500 rows.\n",
      "\n",
      "Total time taken 9.08 s.\n",
      "Finished at 2016-12-19 17:55:56.\n",
      "Requesting query... ok.\n",
      "Query running...\n",
      "Query done.\n",
      "Cache hit.\n",
      "\n",
      "Retrieving results...\n",
      "Got 2500 rows.\n",
      "\n",
      "Total time taken 1.33 s.\n",
      "Finished at 2016-12-19 17:55:57.\n",
      "Requesting query... ok.\n",
      "Query running...\n",
      "Query done.\n",
      "Cache hit.\n",
      "\n",
      "Retrieving results...\n",
      "Got 2500 rows.\n",
      "\n",
      "Total time taken 2.13 s.\n",
      "Finished at 2016-12-19 17:56:00.\n",
      "Requesting query... ok.\n",
      "Query running...\n",
      "Query done.\n",
      "Cache hit.\n",
      "\n",
      "Retrieving results...\n",
      "Got 2500 rows.\n",
      "\n",
      "Total time taken 5.13 s.\n",
      "Finished at 2016-12-19 17:56:05.\n",
      "Requesting query... ok.\n",
      "Query running...\n",
      "Query done.\n",
      "Cache hit.\n",
      "\n",
      "Retrieving results...\n",
      "Got 2500 rows.\n",
      "\n",
      "Total time taken 1.02 s.\n",
      "Finished at 2016-12-19 17:56:06.\n"
     ]
    }
   ],
   "source": [
    "import pandas as pd\n",
    "import seaborn as sns\n",
    "\n",
    "%matplotlib inline\n",
    "\n",
    "project_id = \"bigquery-dsi-vinnie\"\n",
    "\n",
    "sql = \"\"\"\n",
    "SELECT * FROM [bigquery-dsi-dave:yelp_arizona.reviews] \n",
    "LIMIT 2500\n",
    "\"\"\"\n",
    "\n",
    "reviews = pd.read_gbq(sql, project_id=project_id)\n",
    "\n",
    "project_id = \"bigquery-dsi-vinnie\"\n",
    "\n",
    "sql = \"\"\"\n",
    "SELECT * FROM [bigquery-dsi-dave:yelp_arizona.businesses] \n",
    "LIMIT 2500\n",
    "\"\"\"\n",
    "\n",
    "business = pd.read_gbq(sql, project_id=project_id)\n",
    "\n",
    "project_id = \"bigquery-dsi-vinnie\"\n",
    "\n",
    "sql = \"\"\"\n",
    "SELECT * FROM [bigquery-dsi-dave:yelp_arizona.users] \n",
    "LIMIT 2500\n",
    "\"\"\"\n",
    "\n",
    "users = pd.read_gbq(sql, project_id=project_id)\n",
    "\n",
    "project_id = \"bigquery-dsi-vinnie\"\n",
    "\n",
    "sql = \"\"\"\n",
    "SELECT * FROM [bigquery-dsi-dave:yelp_arizona.tips] \n",
    "LIMIT 2500\n",
    "\"\"\"\n",
    "\n",
    "tips = pd.read_gbq(sql, project_id=project_id)\n",
    "\n",
    "project_id = \"bigquery-dsi-vinnie\"\n",
    "\n",
    "sql = \"\"\"\n",
    "SELECT * FROM [bigquery-dsi-dave:yelp_arizona.checkins] \n",
    "LIMIT 2500\n",
    "\"\"\"\n",
    "\n",
    "checkins = pd.read_gbq(sql, project_id=project_id)"
   ]
  },
  {
   "cell_type": "markdown",
   "metadata": {},
   "source": [
    "<img src=\"http://imgur.com/l5NasQj.png\" style=\"float: left; margin: 25px 15px 0px 0px; height: 25px\">\n",
    "\n",
    "## 2. Constructing a \"profile\" for Las Vegas\n",
    "\n",
    "---\n",
    "\n",
    "Yelp is interested in building out what they are calling \"profiles\" for cities. They want you to start with just Las Vegas to see what a prototype of this would look like. Essentially, they want to know what makes Las Vegas distinct from the other four.\n",
    "\n",
    "Use the data you have to predict Las Vegas from the other variables you have. You should not be predicting the city from any kind of location data or other data perfectly associated with that city (or another city).\n",
    "\n",
    "You may use any classification algorithm you deem appropriate, or even multiple models. You should:\n",
    "\n",
    "1. Build at least one model predicting Las Vegas vs. the other cities.\n",
    "- Validate your model(s).\n",
    "- Interpret and visualize, in some way, the results.\n",
    "- Write up a \"profile\" for Las Vegas. This should be a writeup converting your findings from the model(s) into a human-readable description of the city.\n",
    "\n",
    "*Research location data to find the city targets.*"
   ]
  },
  {
   "cell_type": "code",
   "execution_count": 87,
   "metadata": {
    "collapsed": false
   },
   "outputs": [
    {
     "data": {
      "text/html": [
       "<div>\n",
       "<table border=\"1\" class=\"dataframe\">\n",
       "  <thead>\n",
       "    <tr style=\"text-align: right;\">\n",
       "      <th></th>\n",
       "      <th>business_id</th>\n",
       "      <th>name</th>\n",
       "      <th>review_count</th>\n",
       "      <th>city</th>\n",
       "      <th>stars</th>\n",
       "      <th>categories</th>\n",
       "      <th>latitude</th>\n",
       "      <th>longitude</th>\n",
       "      <th>neighborhoods</th>\n",
       "      <th>variable</th>\n",
       "      <th>value</th>\n",
       "    </tr>\n",
       "  </thead>\n",
       "  <tbody>\n",
       "    <tr>\n",
       "      <th>0</th>\n",
       "      <td>--jFTZmywe7StuZ2hEjxyA</td>\n",
       "      <td>Subway</td>\n",
       "      <td>7</td>\n",
       "      <td>Las Vegas</td>\n",
       "      <td>3.5</td>\n",
       "      <td>['Fast Food', 'Sandwiches', 'Restaurants']</td>\n",
       "      <td>36.118819</td>\n",
       "      <td>-115.182005</td>\n",
       "      <td>[]</td>\n",
       "      <td>attributes.Takes Reservations</td>\n",
       "      <td>False</td>\n",
       "    </tr>\n",
       "    <tr>\n",
       "      <th>1</th>\n",
       "      <td>--jFTZmywe7StuZ2hEjxyA</td>\n",
       "      <td>Subway</td>\n",
       "      <td>7</td>\n",
       "      <td>Las Vegas</td>\n",
       "      <td>3.5</td>\n",
       "      <td>['Fast Food', 'Sandwiches', 'Restaurants']</td>\n",
       "      <td>36.118819</td>\n",
       "      <td>-115.182005</td>\n",
       "      <td>[]</td>\n",
       "      <td>attributes.Good For.dessert</td>\n",
       "      <td>False</td>\n",
       "    </tr>\n",
       "    <tr>\n",
       "      <th>2</th>\n",
       "      <td>--jFTZmywe7StuZ2hEjxyA</td>\n",
       "      <td>Subway</td>\n",
       "      <td>7</td>\n",
       "      <td>Las Vegas</td>\n",
       "      <td>3.5</td>\n",
       "      <td>['Fast Food', 'Sandwiches', 'Restaurants']</td>\n",
       "      <td>36.118819</td>\n",
       "      <td>-115.182005</td>\n",
       "      <td>[]</td>\n",
       "      <td>attributes.Take-out</td>\n",
       "      <td>True</td>\n",
       "    </tr>\n",
       "    <tr>\n",
       "      <th>3</th>\n",
       "      <td>--jFTZmywe7StuZ2hEjxyA</td>\n",
       "      <td>Subway</td>\n",
       "      <td>7</td>\n",
       "      <td>Las Vegas</td>\n",
       "      <td>3.5</td>\n",
       "      <td>['Fast Food', 'Sandwiches', 'Restaurants']</td>\n",
       "      <td>36.118819</td>\n",
       "      <td>-115.182005</td>\n",
       "      <td>[]</td>\n",
       "      <td>attributes.Has TV</td>\n",
       "      <td>False</td>\n",
       "    </tr>\n",
       "    <tr>\n",
       "      <th>4</th>\n",
       "      <td>--jFTZmywe7StuZ2hEjxyA</td>\n",
       "      <td>Subway</td>\n",
       "      <td>7</td>\n",
       "      <td>Las Vegas</td>\n",
       "      <td>3.5</td>\n",
       "      <td>['Fast Food', 'Sandwiches', 'Restaurants']</td>\n",
       "      <td>36.118819</td>\n",
       "      <td>-115.182005</td>\n",
       "      <td>[]</td>\n",
       "      <td>attributes.Good For.breakfast</td>\n",
       "      <td>True</td>\n",
       "    </tr>\n",
       "  </tbody>\n",
       "</table>\n",
       "</div>"
      ],
      "text/plain": [
       "              business_id    name  review_count       city  stars  \\\n",
       "0  --jFTZmywe7StuZ2hEjxyA  Subway             7  Las Vegas    3.5   \n",
       "1  --jFTZmywe7StuZ2hEjxyA  Subway             7  Las Vegas    3.5   \n",
       "2  --jFTZmywe7StuZ2hEjxyA  Subway             7  Las Vegas    3.5   \n",
       "3  --jFTZmywe7StuZ2hEjxyA  Subway             7  Las Vegas    3.5   \n",
       "4  --jFTZmywe7StuZ2hEjxyA  Subway             7  Las Vegas    3.5   \n",
       "\n",
       "                                   categories   latitude   longitude  \\\n",
       "0  ['Fast Food', 'Sandwiches', 'Restaurants']  36.118819 -115.182005   \n",
       "1  ['Fast Food', 'Sandwiches', 'Restaurants']  36.118819 -115.182005   \n",
       "2  ['Fast Food', 'Sandwiches', 'Restaurants']  36.118819 -115.182005   \n",
       "3  ['Fast Food', 'Sandwiches', 'Restaurants']  36.118819 -115.182005   \n",
       "4  ['Fast Food', 'Sandwiches', 'Restaurants']  36.118819 -115.182005   \n",
       "\n",
       "  neighborhoods                       variable  value  \n",
       "0            []  attributes.Takes Reservations  False  \n",
       "1            []    attributes.Good For.dessert  False  \n",
       "2            []            attributes.Take-out   True  \n",
       "3            []              attributes.Has TV  False  \n",
       "4            []  attributes.Good For.breakfast   True  "
      ]
     },
     "execution_count": 87,
     "metadata": {},
     "output_type": "execute_result"
    }
   ],
   "source": [
    "business.head()"
   ]
  },
  {
   "cell_type": "code",
   "execution_count": 88,
   "metadata": {
    "collapsed": false
   },
   "outputs": [
    {
     "name": "stdout",
     "output_type": "stream",
     "text": [
      "<class 'pandas.core.frame.DataFrame'>\n",
      "RangeIndex: 2500 entries, 0 to 2499\n",
      "Data columns (total 11 columns):\n",
      "business_id      2500 non-null object\n",
      "name             2500 non-null object\n",
      "review_count     2500 non-null int64\n",
      "city             2500 non-null object\n",
      "stars            2500 non-null float64\n",
      "categories       2500 non-null object\n",
      "latitude         2500 non-null float64\n",
      "longitude        2500 non-null float64\n",
      "neighborhoods    2500 non-null object\n",
      "variable         2500 non-null object\n",
      "value            2500 non-null bool\n",
      "dtypes: bool(1), float64(3), int64(1), object(6)\n",
      "memory usage: 197.8+ KB\n"
     ]
    }
   ],
   "source": [
    "business.info()"
   ]
  },
  {
   "cell_type": "code",
   "execution_count": 90,
   "metadata": {
    "collapsed": false
   },
   "outputs": [],
   "source": [
    "#converting city to binary\n",
    "\n",
    "business['city'] = business['city'].map(lambda x: 0 if x == 'Las Vegas' else 1)"
   ]
  },
  {
   "cell_type": "code",
   "execution_count": 91,
   "metadata": {
    "collapsed": false
   },
   "outputs": [
    {
     "data": {
      "text/plain": [
       "1    2141\n",
       "0     359\n",
       "Name: city, dtype: int64"
      ]
     },
     "execution_count": 91,
     "metadata": {},
     "output_type": "execute_result"
    }
   ],
   "source": [
    "business.city.value_counts()"
   ]
  },
  {
   "cell_type": "code",
   "execution_count": 94,
   "metadata": {
    "collapsed": false,
    "scrolled": true
   },
   "outputs": [
    {
     "data": {
      "text/plain": [
       "['Burgers', 'Fast Food', 'Restaurants']                                                          194\n",
       "['Breakfast & Brunch', 'American (Traditional)', 'Restaurants']                                  138\n",
       "['Wine Bars', 'Bars', 'American (New)', 'Nightlife', 'Restaurants']                              120\n",
       "['Fast Food', 'Restaurants']                                                                     117\n",
       "['Fast Food', 'Mexican', 'Restaurants']                                                           95\n",
       "['American (Traditional)', 'Fast Food', 'Restaurants']                                            89\n",
       "['Fast Food', 'Sandwiches', 'Restaurants']                                                        79\n",
       "['Burgers', 'Restaurants']                                                                        75\n",
       "['Breakfast & Brunch', 'Restaurants']                                                             73\n",
       "['Delis', 'Fast Food', 'Sandwiches', 'Restaurants']                                               65\n",
       "['Puerto Rican', 'Bars', 'Latin American', 'Caribbean', 'Nightlife', 'Restaurants']               58\n",
       "['Irish', 'Music Venues', 'Arts & Entertainment', 'Bars', 'Pubs', 'Nightlife', 'Restaurants']     58\n",
       "['Bars', 'Restaurants', 'American (Traditional)', 'Karaoke', 'Nightlife']                         58\n",
       "['Bars', 'American (Traditional)', 'Nightlife', 'Restaurants']                                    56\n",
       "['Bars', 'Food', 'Beer, Wine & Spirits', 'Dive Bars', 'Nightlife', 'Karaoke']                     56\n",
       "['Bars', 'Restaurants', 'American (Traditional)', 'Sports Bars', 'Nightlife']                     55\n",
       "['Breakfast & Brunch', 'Cafes', 'American (Traditional)', 'Restaurants']                          55\n",
       "['Burgers', 'American (Traditional)', 'Restaurants']                                              52\n",
       "['Fast Food', 'Mexican', 'Tex-Mex', 'Restaurants']                                                51\n",
       "['Breakfast & Brunch', 'American (Traditional)', 'Diners', 'Restaurants']                         51\n",
       "['Fast Food', 'Pizza', 'Restaurants']                                                             51\n",
       "['Burgers', 'Soul Food', 'Barbeque', 'Restaurants']                                               50\n",
       "['Breakfast & Brunch', 'Cafes', 'American (New)', 'Restaurants']                                  48\n",
       "['Bars', 'Gay Bars', 'Nightlife', 'Dance Clubs']                                                  48\n",
       "['Bars', 'Sports Bars', 'Nightlife']                                                              46\n",
       "['Dive Bars', 'Bars', 'Nightlife', 'Sports Bars']                                                 46\n",
       "['Cafes', 'Restaurants']                                                                          45\n",
       "['Sandwiches', 'Bars', 'Mexican', 'Nightlife', 'Restaurants']                                     45\n",
       "['Seafood', 'Bars', 'Steakhouses', 'Nightlife', 'Restaurants']                                    42\n",
       "['Pubs', 'Dive Bars', 'Bars', 'Nightlife']                                                        42\n",
       "['Burgers', 'Mexican', 'Restaurants']                                                             38\n",
       "['Breakfast & Brunch', 'Mexican', 'Diners', 'Restaurants']                                        36\n",
       "['Bars', 'Nightlife']                                                                             35\n",
       "['Bakeries', 'Food']                                                                              35\n",
       "['Dive Bars', 'Bars', 'Nightlife']                                                                33\n",
       "['Bars', 'Nightlife', 'Restaurants']                                                              25\n",
       "['Food', 'Bubble Tea', 'Coffee & Tea', 'Tea Rooms']                                               25\n",
       "['Pubs', 'Bars', 'American (Traditional)', 'Nightlife', 'Restaurants']                            25\n",
       "['Food', 'Bakeries', 'Grocery', 'Convenience Stores']                                             24\n",
       "['Bakeries', 'Food', 'Breakfast & Brunch', 'Restaurants']                                         23\n",
       "['Shopping', 'Vape Shops']                                                                        22\n",
       "['Food', 'Ethnic Food', 'Bakeries', 'Specialty Food']                                             21\n",
       "['Bakeries', 'Food', 'Specialty Food', 'Macarons', 'Desserts']                                    20\n",
       "['Bars', 'Nightlife', 'Dance Clubs']                                                              20\n",
       "['Breakfast & Brunch', 'Sandwiches', 'Salad', 'Restaurants']                                      18\n",
       "['Active Life', 'Yoga', 'Fitness & Instruction']                                                  16\n",
       "['Music Venues', 'Bars', 'Arts & Entertainment', 'Nightlife', 'Dance Clubs']                       9\n",
       "['Bakeries', 'Food', 'Pet Services', 'Pets']                                                       9\n",
       "['Bakeries', 'Food', 'American (Traditional)', 'Restaurants']                                      8\n",
       "Name: categories, dtype: int64"
      ]
     },
     "execution_count": 94,
     "metadata": {},
     "output_type": "execute_result"
    }
   ],
   "source": [
    "business.categories.value_counts()"
   ]
  },
  {
   "cell_type": "code",
   "execution_count": 99,
   "metadata": {
    "collapsed": false
   },
   "outputs": [
    {
     "data": {
      "text/plain": [
       "array(['Active Life', 'American (New)', 'American (Traditional)',\n",
       "       'Arts & Entertainment', 'Bakeries', 'Barbeque', 'Bars',\n",
       "       'Beer, Wine & Spirits', 'Breakfast & Brunch', 'Bubble Tea'], \n",
       "      dtype='|S22')"
      ]
     },
     "execution_count": 99,
     "metadata": {},
     "output_type": "execute_result"
    }
   ],
   "source": [
    "#creating binary values\n",
    "business['cat_lists'] = business.categories.map(lambda x: eval(x))\n",
    "\n",
    "unique_categories = []\n",
    "for catlist in business.cat_lists.values:\n",
    "    unique_categories.extend(catlist)\n",
    "    \n",
    "unique_categories = np.unique(unique_categories)\n",
    "unique_categories[:10]"
   ]
  },
  {
   "cell_type": "code",
   "execution_count": 128,
   "metadata": {
    "collapsed": false
   },
   "outputs": [],
   "source": [
    "new_cat = pd.DataFrame()\n",
    "\n",
    "for uc in unique_categories:\n",
    "    new_cat[uc] = business.cat_lists.map(lambda x: 1 if uc in x else 0)"
   ]
  },
  {
   "cell_type": "code",
   "execution_count": 129,
   "metadata": {
    "collapsed": false
   },
   "outputs": [
    {
     "data": {
      "text/html": [
       "<div>\n",
       "<table border=\"1\" class=\"dataframe\">\n",
       "  <thead>\n",
       "    <tr style=\"text-align: right;\">\n",
       "      <th></th>\n",
       "      <th>Active Life</th>\n",
       "      <th>American (New)</th>\n",
       "      <th>American (Traditional)</th>\n",
       "      <th>Arts &amp; Entertainment</th>\n",
       "      <th>Bakeries</th>\n",
       "      <th>Barbeque</th>\n",
       "      <th>Bars</th>\n",
       "      <th>Beer, Wine &amp; Spirits</th>\n",
       "      <th>Breakfast &amp; Brunch</th>\n",
       "      <th>Bubble Tea</th>\n",
       "      <th>...</th>\n",
       "      <th>Shopping</th>\n",
       "      <th>Soul Food</th>\n",
       "      <th>Specialty Food</th>\n",
       "      <th>Sports Bars</th>\n",
       "      <th>Steakhouses</th>\n",
       "      <th>Tea Rooms</th>\n",
       "      <th>Tex-Mex</th>\n",
       "      <th>Vape Shops</th>\n",
       "      <th>Wine Bars</th>\n",
       "      <th>Yoga</th>\n",
       "    </tr>\n",
       "  </thead>\n",
       "  <tbody>\n",
       "    <tr>\n",
       "      <th>0</th>\n",
       "      <td>0</td>\n",
       "      <td>0</td>\n",
       "      <td>0</td>\n",
       "      <td>0</td>\n",
       "      <td>0</td>\n",
       "      <td>0</td>\n",
       "      <td>0</td>\n",
       "      <td>0</td>\n",
       "      <td>0</td>\n",
       "      <td>0</td>\n",
       "      <td>...</td>\n",
       "      <td>0</td>\n",
       "      <td>0</td>\n",
       "      <td>0</td>\n",
       "      <td>0</td>\n",
       "      <td>0</td>\n",
       "      <td>0</td>\n",
       "      <td>0</td>\n",
       "      <td>0</td>\n",
       "      <td>0</td>\n",
       "      <td>0</td>\n",
       "    </tr>\n",
       "    <tr>\n",
       "      <th>1</th>\n",
       "      <td>0</td>\n",
       "      <td>0</td>\n",
       "      <td>0</td>\n",
       "      <td>0</td>\n",
       "      <td>0</td>\n",
       "      <td>0</td>\n",
       "      <td>0</td>\n",
       "      <td>0</td>\n",
       "      <td>0</td>\n",
       "      <td>0</td>\n",
       "      <td>...</td>\n",
       "      <td>0</td>\n",
       "      <td>0</td>\n",
       "      <td>0</td>\n",
       "      <td>0</td>\n",
       "      <td>0</td>\n",
       "      <td>0</td>\n",
       "      <td>0</td>\n",
       "      <td>0</td>\n",
       "      <td>0</td>\n",
       "      <td>0</td>\n",
       "    </tr>\n",
       "    <tr>\n",
       "      <th>2</th>\n",
       "      <td>0</td>\n",
       "      <td>0</td>\n",
       "      <td>0</td>\n",
       "      <td>0</td>\n",
       "      <td>0</td>\n",
       "      <td>0</td>\n",
       "      <td>0</td>\n",
       "      <td>0</td>\n",
       "      <td>0</td>\n",
       "      <td>0</td>\n",
       "      <td>...</td>\n",
       "      <td>0</td>\n",
       "      <td>0</td>\n",
       "      <td>0</td>\n",
       "      <td>0</td>\n",
       "      <td>0</td>\n",
       "      <td>0</td>\n",
       "      <td>0</td>\n",
       "      <td>0</td>\n",
       "      <td>0</td>\n",
       "      <td>0</td>\n",
       "    </tr>\n",
       "    <tr>\n",
       "      <th>3</th>\n",
       "      <td>0</td>\n",
       "      <td>0</td>\n",
       "      <td>0</td>\n",
       "      <td>0</td>\n",
       "      <td>0</td>\n",
       "      <td>0</td>\n",
       "      <td>0</td>\n",
       "      <td>0</td>\n",
       "      <td>0</td>\n",
       "      <td>0</td>\n",
       "      <td>...</td>\n",
       "      <td>0</td>\n",
       "      <td>0</td>\n",
       "      <td>0</td>\n",
       "      <td>0</td>\n",
       "      <td>0</td>\n",
       "      <td>0</td>\n",
       "      <td>0</td>\n",
       "      <td>0</td>\n",
       "      <td>0</td>\n",
       "      <td>0</td>\n",
       "    </tr>\n",
       "    <tr>\n",
       "      <th>4</th>\n",
       "      <td>0</td>\n",
       "      <td>0</td>\n",
       "      <td>0</td>\n",
       "      <td>0</td>\n",
       "      <td>0</td>\n",
       "      <td>0</td>\n",
       "      <td>0</td>\n",
       "      <td>0</td>\n",
       "      <td>0</td>\n",
       "      <td>0</td>\n",
       "      <td>...</td>\n",
       "      <td>0</td>\n",
       "      <td>0</td>\n",
       "      <td>0</td>\n",
       "      <td>0</td>\n",
       "      <td>0</td>\n",
       "      <td>0</td>\n",
       "      <td>0</td>\n",
       "      <td>0</td>\n",
       "      <td>0</td>\n",
       "      <td>0</td>\n",
       "    </tr>\n",
       "  </tbody>\n",
       "</table>\n",
       "<p>5 rows × 52 columns</p>\n",
       "</div>"
      ],
      "text/plain": [
       "   Active Life  American (New)  American (Traditional)  Arts & Entertainment  \\\n",
       "0            0               0                       0                     0   \n",
       "1            0               0                       0                     0   \n",
       "2            0               0                       0                     0   \n",
       "3            0               0                       0                     0   \n",
       "4            0               0                       0                     0   \n",
       "\n",
       "   Bakeries  Barbeque  Bars  Beer, Wine & Spirits  Breakfast & Brunch  \\\n",
       "0         0         0     0                     0                   0   \n",
       "1         0         0     0                     0                   0   \n",
       "2         0         0     0                     0                   0   \n",
       "3         0         0     0                     0                   0   \n",
       "4         0         0     0                     0                   0   \n",
       "\n",
       "   Bubble Tea  ...   Shopping  Soul Food  Specialty Food  Sports Bars  \\\n",
       "0           0  ...          0          0               0            0   \n",
       "1           0  ...          0          0               0            0   \n",
       "2           0  ...          0          0               0            0   \n",
       "3           0  ...          0          0               0            0   \n",
       "4           0  ...          0          0               0            0   \n",
       "\n",
       "   Steakhouses  Tea Rooms  Tex-Mex  Vape Shops  Wine Bars  Yoga  \n",
       "0            0          0        0           0          0     0  \n",
       "1            0          0        0           0          0     0  \n",
       "2            0          0        0           0          0     0  \n",
       "3            0          0        0           0          0     0  \n",
       "4            0          0        0           0          0     0  \n",
       "\n",
       "[5 rows x 52 columns]"
      ]
     },
     "execution_count": 129,
     "metadata": {},
     "output_type": "execute_result"
    }
   ],
   "source": [
    "new_cat.head()"
   ]
  },
  {
   "cell_type": "code",
   "execution_count": 130,
   "metadata": {
    "collapsed": false,
    "scrolled": true
   },
   "outputs": [
    {
     "data": {
      "text/plain": [
       "['Burgers', 'Fast Food', 'Restaurants']                                                          194\n",
       "['Breakfast & Brunch', 'American (Traditional)', 'Restaurants']                                  138\n",
       "['Wine Bars', 'Bars', 'American (New)', 'Nightlife', 'Restaurants']                              120\n",
       "['Fast Food', 'Restaurants']                                                                     117\n",
       "['Fast Food', 'Mexican', 'Restaurants']                                                           95\n",
       "['American (Traditional)', 'Fast Food', 'Restaurants']                                            89\n",
       "['Fast Food', 'Sandwiches', 'Restaurants']                                                        79\n",
       "['Burgers', 'Restaurants']                                                                        75\n",
       "['Breakfast & Brunch', 'Restaurants']                                                             73\n",
       "['Delis', 'Fast Food', 'Sandwiches', 'Restaurants']                                               65\n",
       "['Puerto Rican', 'Bars', 'Latin American', 'Caribbean', 'Nightlife', 'Restaurants']               58\n",
       "['Irish', 'Music Venues', 'Arts & Entertainment', 'Bars', 'Pubs', 'Nightlife', 'Restaurants']     58\n",
       "['Bars', 'Restaurants', 'American (Traditional)', 'Karaoke', 'Nightlife']                         58\n",
       "['Bars', 'American (Traditional)', 'Nightlife', 'Restaurants']                                    56\n",
       "['Bars', 'Food', 'Beer, Wine & Spirits', 'Dive Bars', 'Nightlife', 'Karaoke']                     56\n",
       "['Bars', 'Restaurants', 'American (Traditional)', 'Sports Bars', 'Nightlife']                     55\n",
       "['Breakfast & Brunch', 'Cafes', 'American (Traditional)', 'Restaurants']                          55\n",
       "['Burgers', 'American (Traditional)', 'Restaurants']                                              52\n",
       "['Fast Food', 'Mexican', 'Tex-Mex', 'Restaurants']                                                51\n",
       "['Breakfast & Brunch', 'American (Traditional)', 'Diners', 'Restaurants']                         51\n",
       "['Fast Food', 'Pizza', 'Restaurants']                                                             51\n",
       "['Burgers', 'Soul Food', 'Barbeque', 'Restaurants']                                               50\n",
       "['Breakfast & Brunch', 'Cafes', 'American (New)', 'Restaurants']                                  48\n",
       "['Bars', 'Gay Bars', 'Nightlife', 'Dance Clubs']                                                  48\n",
       "['Bars', 'Sports Bars', 'Nightlife']                                                              46\n",
       "['Dive Bars', 'Bars', 'Nightlife', 'Sports Bars']                                                 46\n",
       "['Cafes', 'Restaurants']                                                                          45\n",
       "['Sandwiches', 'Bars', 'Mexican', 'Nightlife', 'Restaurants']                                     45\n",
       "['Seafood', 'Bars', 'Steakhouses', 'Nightlife', 'Restaurants']                                    42\n",
       "['Pubs', 'Dive Bars', 'Bars', 'Nightlife']                                                        42\n",
       "['Burgers', 'Mexican', 'Restaurants']                                                             38\n",
       "['Breakfast & Brunch', 'Mexican', 'Diners', 'Restaurants']                                        36\n",
       "['Bars', 'Nightlife']                                                                             35\n",
       "['Bakeries', 'Food']                                                                              35\n",
       "['Dive Bars', 'Bars', 'Nightlife']                                                                33\n",
       "['Bars', 'Nightlife', 'Restaurants']                                                              25\n",
       "['Food', 'Bubble Tea', 'Coffee & Tea', 'Tea Rooms']                                               25\n",
       "['Pubs', 'Bars', 'American (Traditional)', 'Nightlife', 'Restaurants']                            25\n",
       "['Food', 'Bakeries', 'Grocery', 'Convenience Stores']                                             24\n",
       "['Bakeries', 'Food', 'Breakfast & Brunch', 'Restaurants']                                         23\n",
       "['Shopping', 'Vape Shops']                                                                        22\n",
       "['Food', 'Ethnic Food', 'Bakeries', 'Specialty Food']                                             21\n",
       "['Bakeries', 'Food', 'Specialty Food', 'Macarons', 'Desserts']                                    20\n",
       "['Bars', 'Nightlife', 'Dance Clubs']                                                              20\n",
       "['Breakfast & Brunch', 'Sandwiches', 'Salad', 'Restaurants']                                      18\n",
       "['Active Life', 'Yoga', 'Fitness & Instruction']                                                  16\n",
       "['Music Venues', 'Bars', 'Arts & Entertainment', 'Nightlife', 'Dance Clubs']                       9\n",
       "['Bakeries', 'Food', 'Pet Services', 'Pets']                                                       9\n",
       "['Bakeries', 'Food', 'American (Traditional)', 'Restaurants']                                      8\n",
       "Name: categories, dtype: int64"
      ]
     },
     "execution_count": 130,
     "metadata": {},
     "output_type": "execute_result"
    }
   ],
   "source": [
    "business.categories.value_counts()"
   ]
  },
  {
   "cell_type": "code",
   "execution_count": null,
   "metadata": {
    "collapsed": false
   },
   "outputs": [],
   "source": []
  },
  {
   "cell_type": "code",
   "execution_count": 131,
   "metadata": {
    "collapsed": false
   },
   "outputs": [
    {
     "data": {
      "text/html": [
       "<div>\n",
       "<table border=\"1\" class=\"dataframe\">\n",
       "  <thead>\n",
       "    <tr style=\"text-align: right;\">\n",
       "      <th></th>\n",
       "      <th>Active Life</th>\n",
       "      <th>American (New)</th>\n",
       "      <th>American (Traditional)</th>\n",
       "      <th>Arts &amp; Entertainment</th>\n",
       "      <th>Bakeries</th>\n",
       "      <th>Barbeque</th>\n",
       "      <th>Bars</th>\n",
       "      <th>Beer, Wine &amp; Spirits</th>\n",
       "      <th>Breakfast &amp; Brunch</th>\n",
       "      <th>Bubble Tea</th>\n",
       "      <th>...</th>\n",
       "      <th>Shopping</th>\n",
       "      <th>Soul Food</th>\n",
       "      <th>Specialty Food</th>\n",
       "      <th>Sports Bars</th>\n",
       "      <th>Steakhouses</th>\n",
       "      <th>Tea Rooms</th>\n",
       "      <th>Tex-Mex</th>\n",
       "      <th>Vape Shops</th>\n",
       "      <th>Wine Bars</th>\n",
       "      <th>Yoga</th>\n",
       "    </tr>\n",
       "  </thead>\n",
       "  <tbody>\n",
       "    <tr>\n",
       "      <th>0</th>\n",
       "      <td>0</td>\n",
       "      <td>0</td>\n",
       "      <td>0</td>\n",
       "      <td>0</td>\n",
       "      <td>0</td>\n",
       "      <td>0</td>\n",
       "      <td>0</td>\n",
       "      <td>0</td>\n",
       "      <td>0</td>\n",
       "      <td>0</td>\n",
       "      <td>...</td>\n",
       "      <td>0</td>\n",
       "      <td>0</td>\n",
       "      <td>0</td>\n",
       "      <td>0</td>\n",
       "      <td>0</td>\n",
       "      <td>0</td>\n",
       "      <td>0</td>\n",
       "      <td>0</td>\n",
       "      <td>0</td>\n",
       "      <td>0</td>\n",
       "    </tr>\n",
       "    <tr>\n",
       "      <th>1</th>\n",
       "      <td>0</td>\n",
       "      <td>0</td>\n",
       "      <td>0</td>\n",
       "      <td>0</td>\n",
       "      <td>0</td>\n",
       "      <td>0</td>\n",
       "      <td>0</td>\n",
       "      <td>0</td>\n",
       "      <td>0</td>\n",
       "      <td>0</td>\n",
       "      <td>...</td>\n",
       "      <td>0</td>\n",
       "      <td>0</td>\n",
       "      <td>0</td>\n",
       "      <td>0</td>\n",
       "      <td>0</td>\n",
       "      <td>0</td>\n",
       "      <td>0</td>\n",
       "      <td>0</td>\n",
       "      <td>0</td>\n",
       "      <td>0</td>\n",
       "    </tr>\n",
       "    <tr>\n",
       "      <th>2</th>\n",
       "      <td>0</td>\n",
       "      <td>0</td>\n",
       "      <td>0</td>\n",
       "      <td>0</td>\n",
       "      <td>0</td>\n",
       "      <td>0</td>\n",
       "      <td>0</td>\n",
       "      <td>0</td>\n",
       "      <td>0</td>\n",
       "      <td>0</td>\n",
       "      <td>...</td>\n",
       "      <td>0</td>\n",
       "      <td>0</td>\n",
       "      <td>0</td>\n",
       "      <td>0</td>\n",
       "      <td>0</td>\n",
       "      <td>0</td>\n",
       "      <td>0</td>\n",
       "      <td>0</td>\n",
       "      <td>0</td>\n",
       "      <td>0</td>\n",
       "    </tr>\n",
       "    <tr>\n",
       "      <th>3</th>\n",
       "      <td>0</td>\n",
       "      <td>0</td>\n",
       "      <td>0</td>\n",
       "      <td>0</td>\n",
       "      <td>0</td>\n",
       "      <td>0</td>\n",
       "      <td>0</td>\n",
       "      <td>0</td>\n",
       "      <td>0</td>\n",
       "      <td>0</td>\n",
       "      <td>...</td>\n",
       "      <td>0</td>\n",
       "      <td>0</td>\n",
       "      <td>0</td>\n",
       "      <td>0</td>\n",
       "      <td>0</td>\n",
       "      <td>0</td>\n",
       "      <td>0</td>\n",
       "      <td>0</td>\n",
       "      <td>0</td>\n",
       "      <td>0</td>\n",
       "    </tr>\n",
       "    <tr>\n",
       "      <th>4</th>\n",
       "      <td>0</td>\n",
       "      <td>0</td>\n",
       "      <td>0</td>\n",
       "      <td>0</td>\n",
       "      <td>0</td>\n",
       "      <td>0</td>\n",
       "      <td>0</td>\n",
       "      <td>0</td>\n",
       "      <td>0</td>\n",
       "      <td>0</td>\n",
       "      <td>...</td>\n",
       "      <td>0</td>\n",
       "      <td>0</td>\n",
       "      <td>0</td>\n",
       "      <td>0</td>\n",
       "      <td>0</td>\n",
       "      <td>0</td>\n",
       "      <td>0</td>\n",
       "      <td>0</td>\n",
       "      <td>0</td>\n",
       "      <td>0</td>\n",
       "    </tr>\n",
       "  </tbody>\n",
       "</table>\n",
       "<p>5 rows × 52 columns</p>\n",
       "</div>"
      ],
      "text/plain": [
       "   Active Life  American (New)  American (Traditional)  Arts & Entertainment  \\\n",
       "0            0               0                       0                     0   \n",
       "1            0               0                       0                     0   \n",
       "2            0               0                       0                     0   \n",
       "3            0               0                       0                     0   \n",
       "4            0               0                       0                     0   \n",
       "\n",
       "   Bakeries  Barbeque  Bars  Beer, Wine & Spirits  Breakfast & Brunch  \\\n",
       "0         0         0     0                     0                   0   \n",
       "1         0         0     0                     0                   0   \n",
       "2         0         0     0                     0                   0   \n",
       "3         0         0     0                     0                   0   \n",
       "4         0         0     0                     0                   0   \n",
       "\n",
       "   Bubble Tea  ...   Shopping  Soul Food  Specialty Food  Sports Bars  \\\n",
       "0           0  ...          0          0               0            0   \n",
       "1           0  ...          0          0               0            0   \n",
       "2           0  ...          0          0               0            0   \n",
       "3           0  ...          0          0               0            0   \n",
       "4           0  ...          0          0               0            0   \n",
       "\n",
       "   Steakhouses  Tea Rooms  Tex-Mex  Vape Shops  Wine Bars  Yoga  \n",
       "0            0          0        0           0          0     0  \n",
       "1            0          0        0           0          0     0  \n",
       "2            0          0        0           0          0     0  \n",
       "3            0          0        0           0          0     0  \n",
       "4            0          0        0           0          0     0  \n",
       "\n",
       "[5 rows x 52 columns]"
      ]
     },
     "execution_count": 131,
     "metadata": {},
     "output_type": "execute_result"
    }
   ],
   "source": [
    "new_cat.head()"
   ]
  },
  {
   "cell_type": "code",
   "execution_count": 132,
   "metadata": {
    "collapsed": true
   },
   "outputs": [],
   "source": [
    "new_cat.rename(columns=lambda x: x.lower().replace(' & ','_').replace(' ','_'), inplace=True)\n"
   ]
  },
  {
   "cell_type": "code",
   "execution_count": 136,
   "metadata": {
    "collapsed": false
   },
   "outputs": [
    {
     "data": {
      "text/plain": [
       "['active_life',\n",
       " 'american_(new)',\n",
       " 'american_(traditional)',\n",
       " 'arts_entertainment',\n",
       " 'bakeries',\n",
       " 'barbeque',\n",
       " 'bars',\n",
       " 'beer,_wine_spirits',\n",
       " 'breakfast_brunch',\n",
       " 'bubble_tea',\n",
       " 'burgers',\n",
       " 'cafes',\n",
       " 'caribbean',\n",
       " 'coffee_tea',\n",
       " 'convenience_stores',\n",
       " 'dance_clubs',\n",
       " 'delis',\n",
       " 'desserts',\n",
       " 'diners',\n",
       " 'dive_bars',\n",
       " 'ethnic_food',\n",
       " 'fast_food',\n",
       " 'fitness_instruction',\n",
       " 'food',\n",
       " 'gay_bars',\n",
       " 'grocery',\n",
       " 'irish',\n",
       " 'karaoke',\n",
       " 'latin_american',\n",
       " 'macarons',\n",
       " 'mexican',\n",
       " 'music_venues',\n",
       " 'nightlife',\n",
       " 'pet_services',\n",
       " 'pets',\n",
       " 'pizza',\n",
       " 'pubs',\n",
       " 'puerto_rican',\n",
       " 'restaurants',\n",
       " 'salad',\n",
       " 'sandwiches',\n",
       " 'seafood',\n",
       " 'shopping',\n",
       " 'soul_food',\n",
       " 'specialty_food',\n",
       " 'sports_bars',\n",
       " 'steakhouses',\n",
       " 'tea_rooms',\n",
       " 'tex-mex',\n",
       " 'vape_shops',\n",
       " 'wine_bars',\n",
       " 'yoga']"
      ]
     },
     "execution_count": 136,
     "metadata": {},
     "output_type": "execute_result"
    }
   ],
   "source": [
    "list(new_cat.columns)"
   ]
  },
  {
   "cell_type": "code",
   "execution_count": 137,
   "metadata": {
    "collapsed": false
   },
   "outputs": [
    {
     "data": {
      "text/plain": [
       "Index([u'business_id', u'name', u'review_count', u'city', u'stars',\n",
       "       u'categories', u'latitude', u'longitude', u'neighborhoods', u'variable',\n",
       "       u'value', u'cat_lists'],\n",
       "      dtype='object')"
      ]
     },
     "execution_count": 137,
     "metadata": {},
     "output_type": "execute_result"
    }
   ],
   "source": [
    "business.columns"
   ]
  },
  {
   "cell_type": "code",
   "execution_count": 138,
   "metadata": {
    "collapsed": false
   },
   "outputs": [
    {
     "data": {
      "text/plain": [
       "0"
      ]
     },
     "execution_count": 138,
     "metadata": {},
     "output_type": "execute_result"
    }
   ],
   "source": [
    "business.review_count.isnull().sum()"
   ]
  },
  {
   "cell_type": "code",
   "execution_count": 140,
   "metadata": {
    "collapsed": false
   },
   "outputs": [
    {
     "data": {
      "text/plain": [
       "count    2500.000000\n",
       "mean      102.607600\n",
       "std       239.945949\n",
       "min         3.000000\n",
       "25%        11.000000\n",
       "50%        24.500000\n",
       "75%        83.000000\n",
       "max      1474.000000\n",
       "Name: review_count, dtype: float64"
      ]
     },
     "execution_count": 140,
     "metadata": {},
     "output_type": "execute_result"
    }
   ],
   "source": [
    "business.review_count.describe()"
   ]
  },
  {
   "cell_type": "code",
   "execution_count": 141,
   "metadata": {
    "collapsed": false
   },
   "outputs": [
    {
     "data": {
      "text/plain": [
       "0"
      ]
     },
     "execution_count": 141,
     "metadata": {},
     "output_type": "execute_result"
    }
   ],
   "source": [
    "business.stars.isnull().sum()"
   ]
  },
  {
   "cell_type": "code",
   "execution_count": 144,
   "metadata": {
    "collapsed": false
   },
   "outputs": [
    {
     "data": {
      "text/plain": [
       "count    2500.00000\n",
       "mean        3.41920\n",
       "std         0.66772\n",
       "min         2.00000\n",
       "25%         3.00000\n",
       "50%         3.50000\n",
       "75%         4.00000\n",
       "max         5.00000\n",
       "Name: stars, dtype: float64"
      ]
     },
     "execution_count": 144,
     "metadata": {},
     "output_type": "execute_result"
    }
   ],
   "source": [
    "business.stars.describe()"
   ]
  },
  {
   "cell_type": "code",
   "execution_count": 145,
   "metadata": {
    "collapsed": false
   },
   "outputs": [
    {
     "data": {
      "text/plain": [
       "Index([u'business_id', u'name', u'review_count', u'city', u'stars',\n",
       "       u'categories', u'latitude', u'longitude', u'neighborhoods', u'variable',\n",
       "       u'value', u'cat_lists'],\n",
       "      dtype='object')"
      ]
     },
     "execution_count": 145,
     "metadata": {},
     "output_type": "execute_result"
    }
   ],
   "source": [
    "business.columns"
   ]
  },
  {
   "cell_type": "code",
   "execution_count": 150,
   "metadata": {
    "collapsed": false
   },
   "outputs": [],
   "source": [
    "y = business.city.values\n",
    "X = business[['review_count','stars']]"
   ]
  },
  {
   "cell_type": "code",
   "execution_count": 152,
   "metadata": {
    "collapsed": false
   },
   "outputs": [
    {
     "data": {
      "text/plain": [
       "(2500,)"
      ]
     },
     "execution_count": 152,
     "metadata": {},
     "output_type": "execute_result"
    }
   ],
   "source": [
    "y.shape"
   ]
  },
  {
   "cell_type": "code",
   "execution_count": 153,
   "metadata": {
    "collapsed": false
   },
   "outputs": [
    {
     "data": {
      "text/plain": [
       "(2500, 2)"
      ]
     },
     "execution_count": 153,
     "metadata": {},
     "output_type": "execute_result"
    }
   ],
   "source": [
    "X.shape"
   ]
  },
  {
   "cell_type": "code",
   "execution_count": 158,
   "metadata": {
    "collapsed": false
   },
   "outputs": [],
   "source": [
    "from sklearn.model_selection import train_test_split\n",
    "X_train, X_test, y_train, y_test = train_test_split(X, y, test_size=.33)"
   ]
  },
  {
   "cell_type": "code",
   "execution_count": 160,
   "metadata": {
    "collapsed": false
   },
   "outputs": [
    {
     "name": "stdout",
     "output_type": "stream",
     "text": [
      "Fitting 5 folds for each of 200 candidates, totalling 1000 fits\n"
     ]
    },
    {
     "name": "stderr",
     "output_type": "stream",
     "text": [
      "[Parallel(n_jobs=4)]: Done 780 tasks      | elapsed:    2.7s\n"
     ]
    },
    {
     "name": "stdout",
     "output_type": "stream",
     "text": [
      "{'n_neighbors': 9, 'weights': 'distance'}\n"
     ]
    },
    {
     "name": "stderr",
     "output_type": "stream",
     "text": [
      "[Parallel(n_jobs=4)]: Done 1000 out of 1000 | elapsed:    3.4s finished\n"
     ]
    }
   ],
   "source": [
    "params = {\n",
    "    'n_neighbors':range(1,101),\n",
    "    'weights':['uniform','distance']\n",
    "}\n",
    "\n",
    "knn = KNeighborsClassifier()\n",
    "\n",
    "knn_gs = GridSearchCV(knn, params, cv=5, verbose=1, n_jobs=4)\n",
    "knn_gs.fit(X_train, y_train)\n",
    "\n",
    "print knn_gs.best_params_\n",
    "best_knn = knn_gs.best_estimator_"
   ]
  },
  {
   "cell_type": "code",
   "execution_count": 161,
   "metadata": {
    "collapsed": false
   },
   "outputs": [
    {
     "name": "stdout",
     "output_type": "stream",
     "text": [
      "KNeighborsClassifier(algorithm='auto', leaf_size=30, metric='minkowski',\n",
      "           metric_params=None, n_jobs=1, n_neighbors=9, p=2,\n",
      "           weights='distance')\n"
     ]
    }
   ],
   "source": [
    "print best_knn"
   ]
  },
  {
   "cell_type": "code",
   "execution_count": 164,
   "metadata": {
    "collapsed": false
   },
   "outputs": [
    {
     "data": {
      "text/plain": [
       "array([ 0.84031936,  0.786     ,  0.768     ,  0.544     ,  0.74549098])"
      ]
     },
     "execution_count": 164,
     "metadata": {},
     "output_type": "execute_result"
    }
   ],
   "source": [
    "cross_val_score(best_knn, X, y, cv=5)"
   ]
  },
  {
   "cell_type": "code",
   "execution_count": 165,
   "metadata": {
    "collapsed": false
   },
   "outputs": [
    {
     "data": {
      "text/plain": [
       "array([ 0.96987952,  0.98787879,  0.98787879,  0.96363636,  0.94512195])"
      ]
     },
     "execution_count": 165,
     "metadata": {},
     "output_type": "execute_result"
    }
   ],
   "source": [
    "cross_val_score(best_knn, X_test, y_test, cv=5)"
   ]
  },
  {
   "cell_type": "code",
   "execution_count": null,
   "metadata": {
    "collapsed": true
   },
   "outputs": [],
   "source": [
    "# Didn't get a chance to try a different model on this question. I would have tried a logistic regression if I had more\n",
    "# time or would have started earlier..."
   ]
  },
  {
   "cell_type": "markdown",
   "metadata": {
    "collapsed": true
   },
   "source": []
  },
  {
   "cell_type": "markdown",
   "metadata": {},
   "source": [
    "<img src=\"http://imgur.com/l5NasQj.png\" style=\"float: left; margin: 25px 15px 0px 0px; height: 25px\">\n",
    "\n",
    "## 3. Different categories of ratings\n",
    "\n",
    "---\n",
    "\n",
    "Yelp is finally ready to admit that their rating system sucks. No one cares about the ratings, they just use the site to find out what's nearby. The ratings are simply too unreliable for people. \n",
    "\n",
    "Yelp hypothesizes that this is, in fact, because different people tend to give their ratings based on different things. They believe that perhaps some people always base their ratings on quality of food, others on service, and perhaps other categories as well. \n",
    "\n",
    "1. Do some users tend to talk about service more than others in reviews/tips? Divide up the tips/reviews into more \"service-focused\" ones and those less concerned with service.\n",
    "2. Create two new ratings for businesses: ratings from just the service-focused reviews and ratings from the non-service reviews.\n",
    "3. Construct a regression model for each of the two ratings. They should use the same predictor variables (of your choice). \n",
    "4. Validate the performance of the models.\n",
    "5. Do the models coefficients differ at all? What does this tell you about the hypothesis that there are in fact two different kinds of ratings?"
   ]
  },
  {
   "cell_type": "code",
   "execution_count": 388,
   "metadata": {
    "collapsed": false,
    "scrolled": true
   },
   "outputs": [
    {
     "data": {
      "text/html": [
       "<div>\n",
       "<table border=\"1\" class=\"dataframe\">\n",
       "  <thead>\n",
       "    <tr style=\"text-align: right;\">\n",
       "      <th></th>\n",
       "      <th>user_id</th>\n",
       "      <th>review_id</th>\n",
       "      <th>votes_cool</th>\n",
       "      <th>business_id</th>\n",
       "      <th>votes_funny</th>\n",
       "      <th>stars</th>\n",
       "      <th>date</th>\n",
       "      <th>votes_useful</th>\n",
       "      <th>minutes_10</th>\n",
       "      <th>minutes_15</th>\n",
       "      <th>...</th>\n",
       "      <th>service_great</th>\n",
       "      <th>staff_friendly</th>\n",
       "      <th>super_friendly</th>\n",
       "      <th>sweet_potato</th>\n",
       "      <th>tasted_like</th>\n",
       "      <th>time_vegas</th>\n",
       "      <th>try_place</th>\n",
       "      <th>ve_seen</th>\n",
       "      <th>ve_tried</th>\n",
       "      <th>wait_staff</th>\n",
       "    </tr>\n",
       "  </thead>\n",
       "  <tbody>\n",
       "    <tr>\n",
       "      <th>0</th>\n",
       "      <td>0a-ISXPjsyyNAMZfDbrKpw</td>\n",
       "      <td>zixc17WL2V-jsO0eBhFGbA</td>\n",
       "      <td>0</td>\n",
       "      <td>s6zzKc7UvwDRxn-BFlhiTg</td>\n",
       "      <td>0</td>\n",
       "      <td>1</td>\n",
       "      <td>2011-01-25</td>\n",
       "      <td>0</td>\n",
       "      <td>0</td>\n",
       "      <td>0</td>\n",
       "      <td>...</td>\n",
       "      <td>0</td>\n",
       "      <td>1</td>\n",
       "      <td>0</td>\n",
       "      <td>0</td>\n",
       "      <td>0</td>\n",
       "      <td>0</td>\n",
       "      <td>0</td>\n",
       "      <td>0</td>\n",
       "      <td>0</td>\n",
       "      <td>0</td>\n",
       "    </tr>\n",
       "    <tr>\n",
       "      <th>1</th>\n",
       "      <td>xXmx1eUOzrXt6a9zZ8TjjQ</td>\n",
       "      <td>HiOWflsFyqUqOnYZd0_NTw</td>\n",
       "      <td>0</td>\n",
       "      <td>xH5axHFadmc7Veutt376TA</td>\n",
       "      <td>0</td>\n",
       "      <td>1</td>\n",
       "      <td>2013-08-29</td>\n",
       "      <td>0</td>\n",
       "      <td>0</td>\n",
       "      <td>0</td>\n",
       "      <td>...</td>\n",
       "      <td>0</td>\n",
       "      <td>0</td>\n",
       "      <td>0</td>\n",
       "      <td>0</td>\n",
       "      <td>0</td>\n",
       "      <td>0</td>\n",
       "      <td>0</td>\n",
       "      <td>0</td>\n",
       "      <td>0</td>\n",
       "      <td>0</td>\n",
       "    </tr>\n",
       "    <tr>\n",
       "      <th>2</th>\n",
       "      <td>ao7dIEejgkyN-FHMqbhk2Q</td>\n",
       "      <td>heAu778iL4bIdpKGf_b4rQ</td>\n",
       "      <td>0</td>\n",
       "      <td>L2PpaD1BEW_zKCt5GRLvPg</td>\n",
       "      <td>1</td>\n",
       "      <td>1</td>\n",
       "      <td>2011-06-11</td>\n",
       "      <td>0</td>\n",
       "      <td>1</td>\n",
       "      <td>0</td>\n",
       "      <td>...</td>\n",
       "      <td>0</td>\n",
       "      <td>0</td>\n",
       "      <td>0</td>\n",
       "      <td>0</td>\n",
       "      <td>0</td>\n",
       "      <td>0</td>\n",
       "      <td>0</td>\n",
       "      <td>0</td>\n",
       "      <td>0</td>\n",
       "      <td>0</td>\n",
       "    </tr>\n",
       "    <tr>\n",
       "      <th>3</th>\n",
       "      <td>3VgHutPPmF3TbWwIzlSNCA</td>\n",
       "      <td>C6_ijYCetrV29WfkEJ0Qnw</td>\n",
       "      <td>0</td>\n",
       "      <td>wrmZqOF6YAE6Dw-QWAoMLQ</td>\n",
       "      <td>0</td>\n",
       "      <td>1</td>\n",
       "      <td>2009-01-14</td>\n",
       "      <td>0</td>\n",
       "      <td>0</td>\n",
       "      <td>0</td>\n",
       "      <td>...</td>\n",
       "      <td>0</td>\n",
       "      <td>0</td>\n",
       "      <td>0</td>\n",
       "      <td>0</td>\n",
       "      <td>0</td>\n",
       "      <td>0</td>\n",
       "      <td>0</td>\n",
       "      <td>0</td>\n",
       "      <td>0</td>\n",
       "      <td>0</td>\n",
       "    </tr>\n",
       "    <tr>\n",
       "      <th>4</th>\n",
       "      <td>Bp-ww5tH22JDEuj0o3WisA</td>\n",
       "      <td>ECDiVK1w9njUuVue6814-w</td>\n",
       "      <td>0</td>\n",
       "      <td>rVUEZpHQfWI_3kt0lBwaxQ</td>\n",
       "      <td>0</td>\n",
       "      <td>1</td>\n",
       "      <td>2015-02-18</td>\n",
       "      <td>0</td>\n",
       "      <td>0</td>\n",
       "      <td>0</td>\n",
       "      <td>...</td>\n",
       "      <td>0</td>\n",
       "      <td>0</td>\n",
       "      <td>0</td>\n",
       "      <td>0</td>\n",
       "      <td>0</td>\n",
       "      <td>0</td>\n",
       "      <td>0</td>\n",
       "      <td>0</td>\n",
       "      <td>0</td>\n",
       "      <td>0</td>\n",
       "    </tr>\n",
       "  </tbody>\n",
       "</table>\n",
       "<p>5 rows × 108 columns</p>\n",
       "</div>"
      ],
      "text/plain": [
       "                  user_id               review_id  votes_cool  \\\n",
       "0  0a-ISXPjsyyNAMZfDbrKpw  zixc17WL2V-jsO0eBhFGbA           0   \n",
       "1  xXmx1eUOzrXt6a9zZ8TjjQ  HiOWflsFyqUqOnYZd0_NTw           0   \n",
       "2  ao7dIEejgkyN-FHMqbhk2Q  heAu778iL4bIdpKGf_b4rQ           0   \n",
       "3  3VgHutPPmF3TbWwIzlSNCA  C6_ijYCetrV29WfkEJ0Qnw           0   \n",
       "4  Bp-ww5tH22JDEuj0o3WisA  ECDiVK1w9njUuVue6814-w           0   \n",
       "\n",
       "              business_id  votes_funny stars        date  votes_useful  \\\n",
       "0  s6zzKc7UvwDRxn-BFlhiTg            0     1  2011-01-25             0   \n",
       "1  xH5axHFadmc7Veutt376TA            0     1  2013-08-29             0   \n",
       "2  L2PpaD1BEW_zKCt5GRLvPg            1     1  2011-06-11             0   \n",
       "3  wrmZqOF6YAE6Dw-QWAoMLQ            0     1  2009-01-14             0   \n",
       "4  rVUEZpHQfWI_3kt0lBwaxQ            0     1  2015-02-18             0   \n",
       "\n",
       "   minutes_10  minutes_15     ...      service_great staff_friendly  \\\n",
       "0           0           0     ...                  0              1   \n",
       "1           0           0     ...                  0              0   \n",
       "2           1           0     ...                  0              0   \n",
       "3           0           0     ...                  0              0   \n",
       "4           0           0     ...                  0              0   \n",
       "\n",
       "   super_friendly  sweet_potato  tasted_like  time_vegas  try_place  ve_seen  \\\n",
       "0               0             0            0           0          0        0   \n",
       "1               0             0            0           0          0        0   \n",
       "2               0             0            0           0          0        0   \n",
       "3               0             0            0           0          0        0   \n",
       "4               0             0            0           0          0        0   \n",
       "\n",
       "   ve_tried  wait_staff  \n",
       "0         0           0  \n",
       "1         0           0  \n",
       "2         0           0  \n",
       "3         0           0  \n",
       "4         0           0  \n",
       "\n",
       "[5 rows x 108 columns]"
      ]
     },
     "execution_count": 388,
     "metadata": {},
     "output_type": "execute_result"
    }
   ],
   "source": [
    "reviews.head()"
   ]
  },
  {
   "cell_type": "code",
   "execution_count": 317,
   "metadata": {
    "collapsed": false
   },
   "outputs": [
    {
     "data": {
      "text/plain": [
       "(2500, 108)"
      ]
     },
     "execution_count": 317,
     "metadata": {},
     "output_type": "execute_result"
    }
   ],
   "source": [
    "reviews.shape"
   ]
  },
  {
   "cell_type": "code",
   "execution_count": 389,
   "metadata": {
    "collapsed": false
   },
   "outputs": [
    {
     "data": {
      "text/plain": [
       "['bottle_service',\n",
       " 'customer_service',\n",
       " 'food_service',\n",
       " 'good_service',\n",
       " 'great_service',\n",
       " 'service_excellent',\n",
       " 'service_food',\n",
       " 'service_friendly',\n",
       " 'service_good',\n",
       " 'service_great']"
      ]
     },
     "execution_count": 389,
     "metadata": {},
     "output_type": "execute_result"
    }
   ],
   "source": [
    "service_cols = [col for col in reviews.columns if 'service' in col]\n",
    "service_cols"
   ]
  },
  {
   "cell_type": "code",
   "execution_count": 390,
   "metadata": {
    "collapsed": true
   },
   "outputs": [],
   "source": [
    "def service_count(review):\n",
    "    service = 0\n",
    "    for col in service_cols:\n",
    "        if reviews.ix[review][col] > 0:\n",
    "            service += 1\n",
    "    return service\n",
    "\n",
    "reviews['service_mentions'] = [service_count(i) for i in range(reviews.shape[0])]"
   ]
  },
  {
   "cell_type": "code",
   "execution_count": 392,
   "metadata": {
    "collapsed": false
   },
   "outputs": [
    {
     "data": {
      "text/plain": [
       "0    2160\n",
       "1     303\n",
       "2      35\n",
       "3       2\n",
       "Name: service_mentions, dtype: int64"
      ]
     },
     "execution_count": 392,
     "metadata": {},
     "output_type": "execute_result"
    }
   ],
   "source": [
    "reviews['service_mentions'].value_counts()"
   ]
  },
  {
   "cell_type": "code",
   "execution_count": 393,
   "metadata": {
    "collapsed": true
   },
   "outputs": [],
   "source": [
    "reviews['service_focused'] = reviews['service_mentions'].map(lambda x: 1 if x > 1 else 0)"
   ]
  },
  {
   "cell_type": "code",
   "execution_count": 396,
   "metadata": {
    "collapsed": false
   },
   "outputs": [],
   "source": [
    "reviews['stars'] = reviews['stars'].map(lambda x: int(x))"
   ]
  },
  {
   "cell_type": "code",
   "execution_count": 397,
   "metadata": {
    "collapsed": true
   },
   "outputs": [],
   "source": [
    "reviews['rating'] = reviews['stars'].map(lambda x: 1 if x > 2.5 else 0)"
   ]
  },
  {
   "cell_type": "code",
   "execution_count": 399,
   "metadata": {
    "collapsed": false
   },
   "outputs": [
    {
     "data": {
      "text/plain": [
       "1    1278\n",
       "0    1222\n",
       "Name: rating, dtype: int64"
      ]
     },
     "execution_count": 399,
     "metadata": {},
     "output_type": "execute_result"
    }
   ],
   "source": [
    "reviews['rating'].value_counts()"
   ]
  },
  {
   "cell_type": "code",
   "execution_count": 400,
   "metadata": {
    "collapsed": false
   },
   "outputs": [
    {
     "data": {
      "text/plain": [
       "0.4864864864864865"
      ]
     },
     "execution_count": 400,
     "metadata": {},
     "output_type": "execute_result"
    }
   ],
   "source": [
    "#This is the portion of positive reviews in the service focused group.\n",
    "np.sum(reviews['rating'][reviews['service_focused'] == 1])/float(len(reviews['rating'][reviews['service_focused'] == 1]))"
   ]
  },
  {
   "cell_type": "code",
   "execution_count": 401,
   "metadata": {
    "collapsed": false
   },
   "outputs": [
    {
     "data": {
      "text/plain": [
       "0.5115712545676004"
      ]
     },
     "execution_count": 401,
     "metadata": {},
     "output_type": "execute_result"
    }
   ],
   "source": [
    "#This is the portion of positive reviews in the non-service focused group.\n",
    "np.sum(reviews['rating'][reviews['service_focused'] == 0])/float(len(reviews['rating'][reviews['service_focused'] == 0]))"
   ]
  },
  {
   "cell_type": "code",
   "execution_count": 402,
   "metadata": {
    "collapsed": true
   },
   "outputs": [],
   "source": [
    "predictors = ['votes_funny', 'votes_cool', 'votes_useful']\n",
    "\n",
    "X_service = reviews[predictors][reviews['service_focused'] == 1]\n",
    "y_service = reviews['rating'][reviews['service_focused'] == 1]\n",
    "\n",
    "X_nonservice = reviews[predictors][reviews['service_focused'] == 0]\n",
    "y_nonservice = reviews['rating'][reviews['service_focused'] == 0]"
   ]
  },
  {
   "cell_type": "code",
   "execution_count": 403,
   "metadata": {
    "collapsed": true
   },
   "outputs": [],
   "source": [
    "params = {\n",
    "    'penalty':['l1', 'l2'],\n",
    "    'solver':['liblinear'],\n",
    "    'C': np.linspace(0.00002,1,100)\n",
    "}\n",
    "\n",
    "lr = LogisticRegression()\n",
    "lr_gs = GridSearchCV(lr, params, cv=3, verbose=0)\n",
    "gs_service = lr_gs.fit(X_service, y_service)"
   ]
  },
  {
   "cell_type": "code",
   "execution_count": 404,
   "metadata": {
    "collapsed": false
   },
   "outputs": [
    {
     "name": "stdout",
     "output_type": "stream",
     "text": [
      "Service Best Params {'penalty': 'l1', 'C': 0.54546363636363637, 'solver': 'liblinear'}\n",
      "Service Best Score 0.540540540541\n"
     ]
    }
   ],
   "source": [
    "print \"Service Best Params\", gs_service.best_params_\n",
    "print \"Service Best Score\", gs_service.best_score_"
   ]
  },
  {
   "cell_type": "code",
   "execution_count": 405,
   "metadata": {
    "collapsed": true
   },
   "outputs": [],
   "source": [
    "lr_final = LogisticRegression(penalty = 'l2', C = 0.0707, solver = 'liblinear')\n",
    "service_results = lr_final.fit(X_service, y_service)"
   ]
  },
  {
   "cell_type": "code",
   "execution_count": 406,
   "metadata": {
    "collapsed": true
   },
   "outputs": [],
   "source": [
    "non_service_results = lr_final.fit(X_nonservice, y_nonservice)"
   ]
  },
  {
   "cell_type": "code",
   "execution_count": 407,
   "metadata": {
    "collapsed": true
   },
   "outputs": [],
   "source": [
    "service_coef_df = pd.DataFrame({\n",
    "        'predictor': predictors,\n",
    "        'coef': service_results.coef_[0]\n",
    "    })\n",
    "\n",
    "nonservice_coef_df = pd.DataFrame({\n",
    "        'predictor': predictors,\n",
    "        'coef': non_service_results.coef_[0]\n",
    "    })"
   ]
  },
  {
   "cell_type": "code",
   "execution_count": 412,
   "metadata": {
    "collapsed": false
   },
   "outputs": [
    {
     "data": {
      "text/html": [
       "<div>\n",
       "<table border=\"1\" class=\"dataframe\">\n",
       "  <thead>\n",
       "    <tr style=\"text-align: right;\">\n",
       "      <th></th>\n",
       "      <th>coef</th>\n",
       "      <th>predictor</th>\n",
       "    </tr>\n",
       "  </thead>\n",
       "  <tbody>\n",
       "    <tr>\n",
       "      <th>0</th>\n",
       "      <td>-0.219073</td>\n",
       "      <td>votes_funny</td>\n",
       "    </tr>\n",
       "    <tr>\n",
       "      <th>1</th>\n",
       "      <td>0.619518</td>\n",
       "      <td>votes_cool</td>\n",
       "    </tr>\n",
       "    <tr>\n",
       "      <th>2</th>\n",
       "      <td>-0.341643</td>\n",
       "      <td>votes_useful</td>\n",
       "    </tr>\n",
       "  </tbody>\n",
       "</table>\n",
       "</div>"
      ],
      "text/plain": [
       "       coef     predictor\n",
       "0 -0.219073   votes_funny\n",
       "1  0.619518    votes_cool\n",
       "2 -0.341643  votes_useful"
      ]
     },
     "execution_count": 412,
     "metadata": {},
     "output_type": "execute_result"
    }
   ],
   "source": [
    "nonservice_coef_df \n"
   ]
  },
  {
   "cell_type": "code",
   "execution_count": 413,
   "metadata": {
    "collapsed": false
   },
   "outputs": [
    {
     "data": {
      "text/html": [
       "<div>\n",
       "<table border=\"1\" class=\"dataframe\">\n",
       "  <thead>\n",
       "    <tr style=\"text-align: right;\">\n",
       "      <th></th>\n",
       "      <th>coef</th>\n",
       "      <th>predictor</th>\n",
       "    </tr>\n",
       "  </thead>\n",
       "  <tbody>\n",
       "    <tr>\n",
       "      <th>0</th>\n",
       "      <td>-0.219073</td>\n",
       "      <td>votes_funny</td>\n",
       "    </tr>\n",
       "    <tr>\n",
       "      <th>1</th>\n",
       "      <td>0.619518</td>\n",
       "      <td>votes_cool</td>\n",
       "    </tr>\n",
       "    <tr>\n",
       "      <th>2</th>\n",
       "      <td>-0.341643</td>\n",
       "      <td>votes_useful</td>\n",
       "    </tr>\n",
       "  </tbody>\n",
       "</table>\n",
       "</div>"
      ],
      "text/plain": [
       "       coef     predictor\n",
       "0 -0.219073   votes_funny\n",
       "1  0.619518    votes_cool\n",
       "2 -0.341643  votes_useful"
      ]
     },
     "execution_count": 413,
     "metadata": {},
     "output_type": "execute_result"
    }
   ],
   "source": [
    "service_coef_df"
   ]
  },
  {
   "cell_type": "markdown",
   "metadata": {},
   "source": [
    "<img src=\"http://imgur.com/l5NasQj.png\" style=\"float: left; margin: 25px 15px 0px 0px; height: 25px\">\n",
    "\n",
    "## 4. Identifying \"elite\" users\n",
    "\n",
    "---\n",
    "\n",
    "Yelp, though having their own formula for determining whether a user is elite or not, is interested in delving deeper into what differentiates an elite user from a normal user at a broader level.\n",
    "\n",
    "Use a classification model to predict whether a user is elite or not. Note that users can be elite in some years and not in others.\n",
    "\n",
    "1. What things predict well whether a user is elite or not?\n",
    "- Validate the model.\n",
    "- If you were to remove the \"counts\" metrics for users (reviews, votes, compliments), what distinguishes an elite user, if anything? Validate the model and compare it to the one with the count variables.\n",
    "- Think of a way to visually represent your results in a compelling way.\n",
    "- Give a brief write-up of your findings.\n"
   ]
  },
  {
   "cell_type": "code",
   "execution_count": null,
   "metadata": {
    "collapsed": true
   },
   "outputs": [],
   "source": [
    "# Didn't get a chance to start this question. If i got a chance to start it I would have set up a binary for the \n",
    "# elite column. Then train-test-split the data and set up a logistic regression?"
   ]
  },
  {
   "cell_type": "markdown",
   "metadata": {},
   "source": [
    "<img src=\"http://imgur.com/GCAf1UX.png\" style=\"float: left; margin: 25px 15px 0px 0px; height: 25px\">\n",
    "\n",
    "## 5. Find something interesting on your own\n",
    "\n",
    "---\n",
    "\n",
    "You want to impress your superiors at Yelp by doing some investigation into the data on your own. You want to do classification, but you're not sure on what.\n",
    "\n",
    "1. Create a hypothesis or hypotheses about the data based on whatever you are interested in, as long as it is predicting a category of some kind (classification).\n",
    "2. Explore the data visually (ideally related to this hypothesis).\n",
    "3. Build one or more classification models to predict your target variable. **Your modeling should include gridsearching to find optimal model parameters.**\n",
    "4. Evaluate the performance of your model. Explain why your model may have chosen those specific parameters during the gridsearch process.\n",
    "5. Write up what the model tells you. Does it validate or invalidate your hypothesis? Write this up as if for a non-technical audience."
   ]
  },
  {
   "cell_type": "code",
   "execution_count": null,
   "metadata": {
    "collapsed": true
   },
   "outputs": [],
   "source": []
  },
  {
   "cell_type": "markdown",
   "metadata": {},
   "source": [
    "<img src=\"http://imgur.com/GCAf1UX.png\" style=\"float: left; margin: 25px 15px 0px 0px; height: 25px\">\n",
    "\n",
    "## 6. ROC and Precision-recall\n",
    "\n",
    "---\n",
    "\n",
    "Some categories have fewer overall businesses than others. Choose two categories of businesses to predict, one that makes your proportion of target classes as even as possible, and another that has very few businesses and thus makes the target varible imbalanced.\n",
    "\n",
    "1. Create two classification models predicting these categories. Optimize the models and choose variables as you see fit.\n",
    "- Make confusion matrices for your models. Describe the confusion matrices and explain what they tell you about your models' performance.\n",
    "- Make ROC curves for both models. What do the ROC curves describe and what do they tell you about your model?\n",
    "- Make Precision-Recall curves for the models. What do they describe? How do they compare to the ROC curves?\n",
    "- Explain when Precision-Recall may be preferable to ROC. Is that the case in either of your models?"
   ]
  },
  {
   "cell_type": "code",
   "execution_count": null,
   "metadata": {
    "collapsed": true
   },
   "outputs": [],
   "source": []
  }
 ],
 "metadata": {
  "anaconda-cloud": {},
  "kernelspec": {
   "display_name": "Python [conda env:dsi]",
   "language": "python",
   "name": "conda-env-dsi-py"
  },
  "language_info": {
   "codemirror_mode": {
    "name": "ipython",
    "version": 2
   },
   "file_extension": ".py",
   "mimetype": "text/x-python",
   "name": "python",
   "nbconvert_exporter": "python",
   "pygments_lexer": "ipython2",
   "version": "2.7.12"
  }
 },
 "nbformat": 4,
 "nbformat_minor": 0
}
